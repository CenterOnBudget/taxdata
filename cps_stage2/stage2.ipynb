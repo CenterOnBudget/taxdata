{
 "cells": [
  {
   "cell_type": "code",
   "execution_count": 1,
   "metadata": {},
   "outputs": [],
   "source": [
    "import pandas as pd\n",
    "import numpy as np\n",
    "import pulp\n",
    "from scipy.optimize import linprog"
   ]
  },
  {
   "cell_type": "code",
   "execution_count": 2,
   "metadata": {},
   "outputs": [],
   "source": [
    "cps = pd.read_csv('../cps_data/cps_raw.csv.gz', compression='gzip')\n",
    "cps = cps.fillna(0.)\n",
    "stage_1_factors = pd.read_csv('../cps_stage1/stage_1_factors.csv', index_col=0)\n",
    "stage_2_targets = pd.read_csv('../cps_stage1/stage_2_targets.csv', index_col=0)"
   ]
  },
  {
   "cell_type": "code",
   "execution_count": 3,
   "metadata": {},
   "outputs": [],
   "source": [
    "cps['MARS'] = np.where(cps.JS == 3, 4, cps.JS)\n",
    "cps['e00100'] = cps['JCPS9'] + cps['JCPS19']"
   ]
  },
  {
   "cell_type": "code",
   "execution_count": 4,
   "metadata": {},
   "outputs": [],
   "source": [
    "weights = pd.DataFrame()\n",
    "weights['WT2014'] = cps.WT * 100"
   ]
  },
  {
   "cell_type": "code",
   "execution_count": 5,
   "metadata": {},
   "outputs": [],
   "source": [
    "def solve_lp_for_year(data, factors, targets, year, tol):\n",
    "    \"\"\"\n",
    "    Parameters\n",
    "    ----------\n",
    "    data: CPS data\n",
    "    factors: growth factors\n",
    "    targets: aggregate targets\n",
    "    year: year LP model is being solved for\n",
    "    tol: tolerance\n",
    "    \"\"\"\n",
    "    def target(target_val, pop, factor, value):\n",
    "        return (target_val * pop / factor * 1000 - value)\n",
    "    \n",
    "\n",
    "    print('Preparing Coefficient Matrix for {}'.format(year))\n",
    "    data_len = len(data.WT)\n",
    "    # dictionary used just to play with the targets we add\n",
    "    lhs_vars = {}\n",
    "\n",
    "    # don't divide by 100 because WT hasn't been multiplied by 100\n",
    "    s006 = np.where(data.SS > 0,\n",
    "                    data.WT * factors['APOPSNR'][year],\n",
    "                    data.WT * factors['ARETS'][year])\n",
    "\n",
    "    single_returns = np.where((data.JS == 1) & (data.FILST == 1),\n",
    "                             s006, 0)\n",
    "    joint_returns = np.where((data.JS == 2) & (data.FILST == 1),\n",
    "                            s006, 0)\n",
    "    hh_returns = np.where((data.JS == 3) & (data.FILST == 1),\n",
    "                         s006, 0)\n",
    "    returns_w_ss = np.where((data.SS > 0) & (data.FILST == 1),\n",
    "                            s006, 0)\n",
    "    dep_exemptions = np.where(data.JS == 2, data.XXTOT - 2, data.XXTOT - 1) * s006\n",
    "    interest = data.INTST * s006\n",
    "    dividend = data.DBE * s006\n",
    "    biz = data.JCPS25 + data.JCPS35\n",
    "    biz_income = np.where(biz > 0, biz, 0) * s006\n",
    "    biz_loss = np.where(biz < 0, -biz, 0) * s006\n",
    "    cap_gain = np.where(data.CGAGIX > 0, data.CGAGIX, 0) * s006\n",
    "    pension = data.PENSIONS * s006\n",
    "    sch_e_income = np.where(data.RENTS > 0, data.RENTS, 0) * s006\n",
    "    sch_e_loss = np.where(data.RENTS < 0, data.RENTS, 0) * s006\n",
    "    ss_income = np.where(data.FILST == 1, data.SS, 0) * s006\n",
    "    ucomp = data.UCOMP * s006\n",
    "\n",
    "    # wage distribution\n",
    "    wage1 = np.where((data.e00100 <= 10000), data.WAS, 0) * s006\n",
    "    wage2 = np.where((data.e00100 > 10000) & (data.e00100 <= 20000),\n",
    "                     data.WAS, 0) * s006\n",
    "    wage3 = np.where((data.e00100 > 20000) & (data.e00100 <= 30000),\n",
    "                     data.WAS, 0) * s006\n",
    "    wage4 = np.where((data.e00100 > 30000) & (data.e00100 <= 40000),\n",
    "                     data.WAS, 0) * s006\n",
    "    wage5 = np.where((data.e00100 > 40000) & (data.e00100 <= 50000),\n",
    "                     data.WAS, 0) * s006\n",
    "    wage6 = np.where((data.e00100 > 50000) & (data.e00100 <= 75000),\n",
    "                     data.WAS, 0) * s006\n",
    "    wage7 = np.where((data.e00100 > 75000) & (data.e00100 <= 100000),\n",
    "                     data.WAS, 0) * s006\n",
    "    wage8 = np.where((data.e00100 > 100000), data.WAS, 0) * s006\n",
    "\n",
    "    lhs_vars['single_returns'] = single_returns\n",
    "    lhs_vars['joint_returns'] = joint_returns\n",
    "    lhs_vars['hh_returns'] = hh_returns\n",
    "    lhs_vars['returns_w_ss'] = returns_w_ss\n",
    "    lhs_vars['dep_exemptions'] = dep_exemptions\n",
    "    lhs_vars['interest'] = interest\n",
    "    lhs_vars['dividend'] = dividend\n",
    "    lhs_vars['biz_income'] = biz_income\n",
    "    lhs_vars['biz_loss'] = biz_loss\n",
    "    lhs_vars['cap_gain'] = cap_gain\n",
    "    lhs_vars['pension'] = pension\n",
    "    lhs_vars['sch_e_income'] = sch_e_income\n",
    "    lhs_vars['sch_e_loss'] = sch_e_loss\n",
    "    lhs_vars['ss_income'] = ss_income\n",
    "    lhs_vars['ucomp'] = ucomp\n",
    "    lhs_vars['wage1'] = wage1\n",
    "    lhs_vars['wage2'] = wage2\n",
    "    lhs_vars['wage3'] = wage3\n",
    "    lhs_vars['wage4'] = wage4\n",
    "    lhs_vars['wage5'] = wage5\n",
    "    lhs_vars['wage6'] = wage6\n",
    "    lhs_vars['wage7'] = wage7\n",
    "    lhs_vars['wage8'] = wage8\n",
    "    \n",
    "    print('Preparing Targets for {}'.format(year))\n",
    "    apopn = factors['APOPN'][year]\n",
    "    aints = factors['AINTS'][year]\n",
    "    adivs = factors['ADIVS'][year]\n",
    "    aschci = factors['ASCHCI'][year]\n",
    "    aschcl = factors['ASCHCL'][year]\n",
    "    acgns = factors['ACGNS'][year]\n",
    "    atxpy = factors['ATXPY'][year]\n",
    "    aschei = factors['ASCHEI'][year]\n",
    "    aschel = factors['ASCHEL'][year]\n",
    "    asocsec = factors['ASOCSEC'][year]\n",
    "    apopsnr = factors['APOPSNR'][year]\n",
    "    aucomp = factors['AUCOMP'][year]\n",
    "    awage = factors['AWAGE'][year]\n",
    "    \n",
    "    year = str(year)\n",
    "    rhs_vars = {}\n",
    "\n",
    "    rhs_vars['single_returns'] = targets[year]['Single'] - single_returns.sum()\n",
    "    rhs_vars['joint_returns'] = targets[year]['Joint'] - joint_returns.sum()\n",
    "    rhs_vars['hh_returns'] = targets[year]['HH'] - hh_returns.sum()\n",
    "    target_name = 'SS_return'\n",
    "    rhs_vars['returns_w_ss'] = targets[year][target_name] - returns_w_ss.sum()\n",
    "    target_name = 'Dep_return'\n",
    "    rhs_vars['dep_exemptions'] = targets[year][target_name] - dep_exemptions.sum()\n",
    "    rhs_vars['interest'] = target(targets[year]['INTS'], apopn, aints, interest.sum())\n",
    "    rhs_vars['dividend'] = target(targets[year]['DIVS'], apopn, adivs, dividend.sum())\n",
    "    rhs_vars['biz_income'] = target(targets[year]['SCHCI'], apopn, aschci, biz_income.sum())\n",
    "    rhs_vars['biz_loss'] = target(targets[year]['SCHCL'], apopn, aschcl, biz_loss.sum())\n",
    "    rhs_vars['cap_gain'] = target(targets[year]['CGNS'], apopn, acgns, cap_gain.sum())\n",
    "    rhs_vars['pension'] = target(targets[year]['Pension'], apopn, atxpy, pension.sum())\n",
    "    rhs_vars['sch_e_income'] = target(targets[year]['SCHEI'], apopn, aschei, sch_e_income.sum())\n",
    "    rhs_vars['sch_e_loss'] = target(targets[year]['SCHEL'], apopn, aschel, sch_e_loss.sum())\n",
    "    rhs_vars['ss_income'] = target(targets[year]['SS'], apopsnr, asocsec, ss_income.sum())\n",
    "    rhs_vars['ucomp'] = target(targets[year]['UCOMP'], apopn, aucomp, ucomp.sum())\n",
    "    rhs_vars['wage1'] = target(targets[year]['wage1'], apopn, awage, wage1.sum())\n",
    "    rhs_vars['wage2'] = target(targets[year]['wage2'], apopn, awage, wage2.sum())\n",
    "    rhs_vars['wage3'] = target(targets[year]['wage3'], apopn, awage, wage3.sum())\n",
    "    rhs_vars['wage4'] = target(targets[year]['wage4'], apopn, awage, wage4.sum())\n",
    "    rhs_vars['wage5'] = target(targets[year]['wage5'], apopn, awage, wage5.sum())\n",
    "    rhs_vars['wage6'] = target(targets[year]['wage6'], apopn, awage, wage6.sum())\n",
    "    rhs_vars['wage7'] = target(targets[year]['wage7'], apopn, awage, wage7.sum())\n",
    "    rhs_vars['wage8'] = target(targets[year]['wage8'], apopn, awage, wage8.sum())\n",
    "    \n",
    "    \"\"\"model_vars = ['single_returns', 'joint_returns', 'hh_returns', 'returns_w_ss',\n",
    "                  'cap_gain',\n",
    "                  'wage1', 'wage2', 'wage3', 'wage4', 'wage5', 'wage6', 'wage7']\"\"\"\n",
    "    model_vars = ['single_returns', 'joint_returns', 'returns_w_ss', 'dep_exemptions',\n",
    "                  'interest', 'dividend', 'biz_income', 'pension', 'ss_income',\n",
    "                  'ucomp', 'wage1', 'wage2', 'wage3', 'wage4', 'wage5', 'wage6',\n",
    "                  'wage7', 'wage8']\n",
    "    vstack_vars = []\n",
    "    b = []  # list to hold the targets\n",
    "    for var in model_vars:\n",
    "        vstack_vars.append(lhs_vars[var])\n",
    "        b.append(rhs_vars[var])\n",
    "        print(var, rhs_vars[var])\n",
    "    vstack_vars = tuple(vstack_vars)\n",
    "    one_half_lhs = np.vstack(vstack_vars)\n",
    "    \n",
    "    # coefficients for r and s\n",
    "    a1 = np.array(one_half_lhs)\n",
    "    a2 = np.array(-one_half_lhs)\n",
    "\n",
    "    # set up LP model\n",
    "    print('Constructing LP Model')\n",
    "    LP = pulp.LpProblem('CPS Stage 2', pulp.LpMinimize)\n",
    "    r = pulp.LpVariable.dicts('r', data.index, lowBound=0)\n",
    "    s = pulp.LpVariable.dicts('s', data.index, lowBound=0)\n",
    "    # add objective function\n",
    "    LP += pulp.lpSum([r[i] + s[i] for i in data.index])\n",
    "    # add constrains\n",
    "    for i in data.index:\n",
    "        LP += r[i] + s[i] <= tol\n",
    "    for i in range(len(b)):\n",
    "        LP += pulp.lpSum([(a1[i][j] * r[j] + a2[i][j] * s[j]) for j in data.index]) == b[i]\n",
    "    print('Solving Model...')\n",
    "    pulp.LpSolverDefault.msg = 1\n",
    "    LP.solve()\n",
    "    print(pulp.LpStatus[LP.status])\n",
    "    \n",
    "    # apply r and s to the weights\n",
    "    r_val = np.array([r[i].varValue for i in r])\n",
    "    s_val = np.array([s[i].varValue for i in s])\n",
    "    z = (1. + r_val - s_val) * s006 * 100\n",
    "\n",
    "    return z"
   ]
  },
  {
   "cell_type": "code",
   "execution_count": 7,
   "metadata": {},
   "outputs": [
    {
     "name": "stdout",
     "output_type": "stream",
     "text": [
      "Preparing Coefficient Matrix for 2015\n",
      "Preparing Targets for 2015\n",
      "single_returns -9372706.25204\n",
      "joint_returns -9011846.50149\n",
      "returns_w_ss -8218752.30683\n",
      "dep_exemptions 5435712.44091\n",
      "interest -7121546511.12\n",
      "dividend 1218840953.07\n",
      "biz_income 68663163221.9\n",
      "pension -45985770574.1\n",
      "ss_income -110803008111.0\n",
      "ucomp -9359381411.55\n",
      "wage1 -17080409158.7\n",
      "wage2 43014545738.0\n",
      "wage3 30810671390.8\n",
      "wage4 35484664370.2\n",
      "wage5 16974544009.1\n",
      "wage6 -70205615031.0\n",
      "wage7 -63280884379.5\n",
      "wage8 118005919318.0\n",
      "Constructing LP Model\n",
      "Solving Model...\n",
      "Optimal\n"
     ]
    }
   ],
   "source": [
    "weights['WT2015'] = solve_lp_for_year(cps, stage_1_factors, stage_2_targets, 2015, .50)"
   ]
  },
  {
   "cell_type": "code",
   "execution_count": 8,
   "metadata": {},
   "outputs": [
    {
     "name": "stdout",
     "output_type": "stream",
     "text": [
      "Preparing Coefficient Matrix for 2016\n",
      "Preparing Targets for 2016\n",
      "single_returns -9834330.49767\n",
      "joint_returns -9455045.09381\n",
      "returns_w_ss -8491988.42225\n",
      "dep_exemptions 4615844.79943\n",
      "interest -9563538925.17\n",
      "dividend -2833655272.74\n",
      "biz_income 66020483570.3\n",
      "pension -61668221905.3\n",
      "ss_income -114486703932.0\n",
      "ucomp -9866438769.09\n",
      "wage1 -18400552362.8\n",
      "wage2 41317915105.7\n",
      "wage3 27943775944.4\n",
      "wage4 32351100167.7\n",
      "wage5 13541225488.3\n",
      "wage6 -79818573670.2\n",
      "wage7 -72154903670.4\n",
      "wage8 88696520078.9\n",
      "Constructing LP Model\n",
      "Solving Model...\n",
      "Optimal\n"
     ]
    }
   ],
   "source": [
    "weights['WT2016'] = solve_lp_for_year(cps, stage_1_factors, stage_2_targets, 2016, .50)"
   ]
  },
  {
   "cell_type": "code",
   "execution_count": 9,
   "metadata": {},
   "outputs": [
    {
     "name": "stdout",
     "output_type": "stream",
     "text": [
      "Preparing Coefficient Matrix for 2017\n",
      "Preparing Targets for 2017\n",
      "single_returns -10297857.4633\n",
      "joint_returns -9900102.83071\n",
      "returns_w_ss -8772876.37567\n",
      "dep_exemptions 3645309.81211\n",
      "interest -12236543309.3\n",
      "dividend -7227717867.11\n",
      "biz_income 62887812079.8\n",
      "pension -78126856357.9\n",
      "ss_income -118273559772.0\n",
      "ucomp -10442420662.1\n",
      "wage1 -19939755963.9\n",
      "wage2 39259534951.0\n",
      "wage3 24490903429.9\n",
      "wage4 28577640572.8\n",
      "wage5 9436812815.43\n",
      "wage6 -91069090927.4\n",
      "wage7 -82525288604.6\n",
      "wage8 53879767785.0\n",
      "Constructing LP Model\n",
      "Solving Model...\n",
      "Optimal\n"
     ]
    }
   ],
   "source": [
    "weights['WT2017'] = solve_lp_for_year(cps, stage_1_factors, stage_2_targets, 2017, .50)"
   ]
  },
  {
   "cell_type": "code",
   "execution_count": 10,
   "metadata": {},
   "outputs": [
    {
     "name": "stdout",
     "output_type": "stream",
     "text": [
      "Preparing Coefficient Matrix for 2018\n",
      "Preparing Targets for 2018\n",
      "single_returns -10801491.5237\n",
      "joint_returns -10383614.4482\n",
      "returns_w_ss -9066951.55241\n",
      "dep_exemptions 2768922.02938\n",
      "interest -14881878189.0\n",
      "dividend -11639855228.6\n",
      "biz_income 60018864632.0\n",
      "pension -95295557678.4\n",
      "ss_income -122238202212.0\n",
      "ucomp -10979385031.7\n",
      "wage1 -21334089007.2\n",
      "wage2 37430624985.0\n",
      "wage3 21431035150.1\n",
      "wage4 25231406064.5\n",
      "wage5 5782174799.56\n",
      "wage6 -101259323797.0\n",
      "wage7 -91937468368.9\n",
      "wage8 22648209032.5\n",
      "Constructing LP Model\n",
      "Solving Model...\n",
      "Optimal\n"
     ]
    }
   ],
   "source": [
    "weights['WT2018'] = solve_lp_for_year(cps, stage_1_factors, stage_2_targets, 2018, .50)"
   ]
  },
  {
   "cell_type": "code",
   "execution_count": 11,
   "metadata": {},
   "outputs": [
    {
     "name": "stdout",
     "output_type": "stream",
     "text": [
      "Preparing Coefficient Matrix for 2019\n",
      "Preparing Targets for 2019\n",
      "single_returns -11351775.537\n",
      "joint_returns -10911844.3867\n",
      "returns_w_ss -9374607.27584\n",
      "dep_exemptions 2040023.3623\n",
      "interest -17438243234.9\n",
      "dividend -15989955222.0\n",
      "biz_income 57579176560.4\n",
      "pension -113110078407.0\n",
      "ss_income -126385933929.0\n",
      "ucomp -11453544208.7\n",
      "wage1 -22504370042.5\n",
      "wage2 35959606090.3\n",
      "wage3 18976290048.6\n",
      "wage4 22543674762.3\n",
      "wage5 2820343420.46\n",
      "wage6 -109801862027.0\n",
      "wage7 -99856571370.1\n",
      "wage8 -3022237565.42\n",
      "Constructing LP Model\n",
      "Solving Model...\n",
      "Optimal\n"
     ]
    }
   ],
   "source": [
    "weights['WT2019'] = solve_lp_for_year(cps, stage_1_factors, stage_2_targets, 2019, .50)"
   ]
  },
  {
   "cell_type": "code",
   "execution_count": 12,
   "metadata": {},
   "outputs": [
    {
     "name": "stdout",
     "output_type": "stream",
     "text": [
      "Preparing Coefficient Matrix for 2020\n",
      "Preparing Targets for 2020\n",
      "single_returns -11951399.1944\n",
      "joint_returns -11487379.5528\n",
      "returns_w_ss -9698357.61575\n",
      "dep_exemptions 1427196.17162\n",
      "interest -19960491119.8\n",
      "dividend -20362851910.4\n",
      "biz_income 55463119961.9\n",
      "pension -131802224082.0\n",
      "ss_income -130750648936.0\n",
      "ucomp -11879298326.1\n",
      "wage1 -23495350707.6\n",
      "wage2 34770708330.4\n",
      "wage3 17005905112.7\n",
      "wage4 20382422714.5\n",
      "wage5 413325816.894\n",
      "wage6 -117033631471.0\n",
      "wage7 -106591124806.0\n",
      "wage8 -24269946646.2\n",
      "Constructing LP Model\n",
      "Solving Model...\n",
      "Optimal\n"
     ]
    }
   ],
   "source": [
    "weights['WT2020'] = solve_lp_for_year(cps, stage_1_factors, stage_2_targets, 2020, .50)"
   ]
  },
  {
   "cell_type": "code",
   "execution_count": 13,
   "metadata": {},
   "outputs": [
    {
     "name": "stdout",
     "output_type": "stream",
     "text": [
      "Preparing Coefficient Matrix for 2021\n",
      "Preparing Targets for 2021\n",
      "single_returns -12537033.4407\n",
      "joint_returns -12049496.6039\n",
      "returns_w_ss -10016430.2921\n",
      "dep_exemptions 801297.178716\n",
      "interest -22463255028.2\n",
      "dividend -24687773246.0\n",
      "biz_income 53316576768.3\n",
      "pension -150160386467.0\n",
      "ss_income -135038819213.0\n",
      "ucomp -12309188989.7\n",
      "wage1 -24506958010.9\n",
      "wage2 33548036505.4\n",
      "wage3 14975332469.2\n",
      "wage4 18156015122.2\n",
      "wage5 -2061754302.11\n",
      "wage6 -124414429315.0\n",
      "wage7 -113458341229.0\n",
      "wage8 -46040037881.8\n",
      "Constructing LP Model\n",
      "Solving Model...\n",
      "Optimal\n"
     ]
    }
   ],
   "source": [
    "weights['WT2021'] = solve_lp_for_year(cps, stage_1_factors, stage_2_targets, 2021, .50)"
   ]
  },
  {
   "cell_type": "code",
   "execution_count": 14,
   "metadata": {},
   "outputs": [
    {
     "name": "stdout",
     "output_type": "stream",
     "text": [
      "Preparing Coefficient Matrix for 2022\n",
      "Preparing Targets for 2022\n",
      "single_returns -13156530.3046\n",
      "joint_returns -12644091.8862\n",
      "returns_w_ss -10347941.2389\n",
      "dep_exemptions 198564.636908\n",
      "interest -25027635664.5\n",
      "dividend -29154004194.9\n",
      "biz_income 51206846431.0\n",
      "pension -169398835208.0\n",
      "ss_income -139508160633.0\n",
      "ucomp -12731218486.7\n",
      "wage1 -25476769489.8\n",
      "wage2 32382178238.9\n",
      "wage3 13056864145.5\n",
      "wage4 16050293160.8\n",
      "wage5 -4407681909.62\n",
      "wage6 -131505067543.0\n",
      "wage7 -120069418625.0\n",
      "wage8 -66837982900.9\n",
      "Constructing LP Model\n",
      "Solving Model...\n",
      "Optimal\n"
     ]
    }
   ],
   "source": [
    "weights['WT2022'] = solve_lp_for_year(cps, stage_1_factors, stage_2_targets, 2022, .50)"
   ]
  },
  {
   "cell_type": "code",
   "execution_count": 15,
   "metadata": {},
   "outputs": [
    {
     "name": "stdout",
     "output_type": "stream",
     "text": [
      "Preparing Coefficient Matrix for 2023\n",
      "Preparing Targets for 2023\n",
      "single_returns -13765958.8459\n",
      "joint_returns -13229030.0764\n",
      "returns_w_ss -10675378.5714\n",
      "dep_exemptions -416847.945683\n",
      "interest -27583240448.6\n",
      "dividend -33594185438.1\n",
      "biz_income 49062700356.8\n",
      "pension -188418729796.0\n",
      "ss_income -143922582680.0\n",
      "ucomp -13157380517.7\n",
      "wage1 -26465363263.2\n",
      "wage2 31183251054.4\n",
      "wage3 11082216096.2\n",
      "wage4 13883563988.9\n",
      "wage5 -6816761239.9\n",
      "wage6 -138734307702.0\n",
      "wage7 -126804708580.0\n",
      "wage8 -88128133019.0\n",
      "Constructing LP Model\n",
      "Solving Model...\n",
      "Optimal\n"
     ]
    }
   ],
   "source": [
    "weights['WT2023'] = solve_lp_for_year(cps, stage_1_factors, stage_2_targets, 2023, .50)"
   ]
  },
  {
   "cell_type": "code",
   "execution_count": 16,
   "metadata": {},
   "outputs": [
    {
     "name": "stdout",
     "output_type": "stream",
     "text": [
      "Preparing Coefficient Matrix for 2024\n",
      "Preparing Targets for 2024\n",
      "single_returns -14357448.488\n",
      "joint_returns -13796760.0146\n",
      "returns_w_ss -10995144.8211\n",
      "dep_exemptions -1041654.03514\n",
      "interest -30102970506.2\n",
      "dividend -37957204743.9\n",
      "biz_income 46902543871.0\n",
      "pension -206977661072.0\n",
      "ss_income -148233585255.0\n",
      "ucomp -13585343844.3\n",
      "wage1 -27469328435.5\n",
      "wage2 29958337023.6\n",
      "wage3 9059061476.1\n",
      "wage4 11664562334.1\n",
      "wage5 -9280044874.86\n",
      "wage6 -146072695539.0\n",
      "wage7 -133635293616.0\n",
      "wage8 -109817000956.0\n",
      "Constructing LP Model\n",
      "Solving Model...\n",
      "Optimal\n"
     ]
    }
   ],
   "source": [
    "weights['WT2024'] = solve_lp_for_year(cps, stage_1_factors, stage_2_targets, 2024, .50)"
   ]
  },
  {
   "cell_type": "code",
   "execution_count": 17,
   "metadata": {},
   "outputs": [
    {
     "name": "stdout",
     "output_type": "stream",
     "text": [
      "Preparing Coefficient Matrix for 2025\n",
      "Preparing Targets for 2025\n",
      "single_returns -14974295.123\n",
      "joint_returns -14388820.6815\n",
      "returns_w_ss -11327068.6792\n",
      "dep_exemptions -1699974.86043\n",
      "interest -32745544663.7\n",
      "dividend -42539735721.3\n",
      "biz_income 44602313100.3\n",
      "pension -226448689171.0\n",
      "ss_income -152708493442.0\n",
      "ucomp -14030105188.5\n",
      "wage1 -28514794222.3\n",
      "wage2 28652404263.4\n",
      "wage3 6921453096.54\n",
      "wage4 9319198659.63\n",
      "wage5 -11872961830.7\n",
      "wage6 -153740630231.0\n",
      "wage7 -140773744439.0\n",
      "wage8 -132633907103.0\n",
      "Constructing LP Model\n",
      "Solving Model...\n",
      "Optimal\n"
     ]
    }
   ],
   "source": [
    "weights['WT2025'] = solve_lp_for_year(cps, stage_1_factors, stage_2_targets, 2025, .50)"
   ]
  },
  {
   "cell_type": "code",
   "execution_count": 18,
   "metadata": {},
   "outputs": [
    {
     "name": "stdout",
     "output_type": "stream",
     "text": [
      "Preparing Coefficient Matrix for 2026\n",
      "Preparing Targets for 2026\n",
      "single_returns -15551225.1305\n",
      "joint_returns -14942587.2821\n",
      "returns_w_ss -11641271.3623\n",
      "dep_exemptions -2358770.95347\n",
      "interest -35277003052.6\n",
      "dividend -46903103639.1\n",
      "biz_income 42336402339.2\n",
      "pension -244783832351.0\n",
      "ss_income -156944489509.0\n",
      "ucomp -14470235740.9\n",
      "wage1 -29566384601.6\n",
      "wage2 27339529975.2\n",
      "wage3 4755741829.49\n",
      "wage4 6944828084.41\n",
      "wage5 -14496201985.4\n",
      "wage6 -161437771956.0\n",
      "wage7 -147928861079.0\n",
      "wage8 -155597537057.0\n",
      "Constructing LP Model\n",
      "Solving Model...\n",
      "Optimal\n"
     ]
    }
   ],
   "source": [
    "weights['WT2026'] = solve_lp_for_year(cps, stage_1_factors, stage_2_targets, 2026, .50)"
   ]
  },
  {
   "cell_type": "code",
   "execution_count": 19,
   "metadata": {},
   "outputs": [
    {
     "name": "stdout",
     "output_type": "stream",
     "text": [
      "Preparing Coefficient Matrix for 2027\n",
      "Preparing Targets for 2027\n",
      "single_returns -16081499.0445\n",
      "joint_returns -15451593.8675\n",
      "returns_w_ss -11934673.4745\n",
      "dep_exemptions -3016115.33459\n",
      "interest -37675570044.3\n",
      "dividend -51005863335.3\n",
      "biz_income 40117156702.6\n",
      "pension -261781542156.0\n",
      "ss_income -160900057867.0\n",
      "ucomp -14904046695.5\n",
      "wage1 -30622231950.9\n",
      "wage2 26023387057.3\n",
      "wage3 2565008654.31\n",
      "wage4 4545099691.02\n",
      "wage5 -17145937357.0\n",
      "wage6 -169147324255.0\n",
      "wage7 -155083606911.0\n",
      "wage8 -178659296508.0\n",
      "Constructing LP Model\n",
      "Solving Model...\n",
      "Optimal\n"
     ]
    }
   ],
   "source": [
    "weights['WT2027'] = solve_lp_for_year(cps, stage_1_factors, stage_2_targets, 2027, .50)"
   ]
  },
  {
   "cell_type": "code",
   "execution_count": 20,
   "metadata": {},
   "outputs": [],
   "source": [
    "weights.to_csv('cps_weights.csv.gz', index=False, compression='gzip')"
   ]
  },
  {
   "cell_type": "code",
   "execution_count": null,
   "metadata": {},
   "outputs": [],
   "source": []
  }
 ],
 "metadata": {
  "kernelspec": {
   "display_name": "Python [conda env:py36]",
   "language": "python",
   "name": "conda-env-py36-py"
  },
  "language_info": {
   "codemirror_mode": {
    "name": "ipython",
    "version": 3
   },
   "file_extension": ".py",
   "mimetype": "text/x-python",
   "name": "python",
   "nbconvert_exporter": "python",
   "pygments_lexer": "ipython3",
   "version": "3.6.3"
  }
 },
 "nbformat": 4,
 "nbformat_minor": 2
}
