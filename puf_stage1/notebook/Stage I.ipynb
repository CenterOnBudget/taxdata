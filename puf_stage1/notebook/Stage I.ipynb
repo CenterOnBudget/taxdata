{
 "cells": [
  {
   "cell_type": "code",
   "execution_count": 29,
   "metadata": {
    "collapsed": false
   },
   "outputs": [],
   "source": [
    "from pandas import DataFrame as df\n",
    "import pandas as pd"
   ]
  },
  {
   "cell_type": "markdown",
   "metadata": {},
   "source": [
    "# Import Census projection on population: \n",
    "\n",
    "- [Projection from 2014](http://www.census.gov/population/projections/data/national/2014/downloadablefiles.html)\n",
    "- [Historical estimates from 2010 to 2014](http://www.census.gov/popest/data/datasets.html)\n",
    "- [Historical estimates from 2000 to 2010](http://www.census.gov/popest/data/intercensal/national/nat2010.html)"
   ]
  },
  {
   "cell_type": "code",
   "execution_count": 30,
   "metadata": {
    "collapsed": false
   },
   "outputs": [],
   "source": [
    "#projection 2014+\n",
    "pop_projection = df.from_csv(\"NP2014_D1.csv\", index_col='year')\n",
    "pop_projection = pop_projection[(pop_projection.sex == 0) & (pop_projection.race == 0) & (pop_projection.origin == 0)]\n",
    "pop_projection = pop_projection.drop(['sex', 'race', 'origin'], axis=1)\n",
    "pop_projection = pop_projection.drop(pop_projection.index[11:], axis=0)\n",
    "pop_projection = pop_projection.drop(pop_projection.index[:1], axis=0)"
   ]
  },
  {
   "cell_type": "code",
   "execution_count": 31,
   "metadata": {
    "collapsed": false
   },
   "outputs": [],
   "source": [
    "#estimates 2010-2014\n",
    "historical1 = pd.read_csv(\"NC-EST2014-AGESEX-RES.csv\")\n",
    "historical1 = historical1[historical1.SEX == 0]\n",
    "historical1 = historical1.drop(['SEX', 'CENSUS2010POP', 'ESTIMATESBASE2010'],axis = 1)"
   ]
  },
  {
   "cell_type": "code",
   "execution_count": 32,
   "metadata": {
    "collapsed": false
   },
   "outputs": [],
   "source": [
    "pop_dep1 = historical1[historical1.AGE<=19].sum()\n",
    "pop_dep1 = pop_dep1.drop(['AGE'],axis = 0)\n",
    "\n",
    "pop_snr1 = historical1[(historical1.AGE>=65)&(historical1.AGE<999)].sum()\n",
    "pop_snr1 = pop_snr1.drop(['AGE'], axis = 0)\n",
    "\n",
    "total_pop1 = historical1[historical1.AGE==999]\n",
    "total_pop1 = total_pop1.drop(['AGE'], axis = 1)"
   ]
  },
  {
   "cell_type": "code",
   "execution_count": 33,
   "metadata": {
    "collapsed": false
   },
   "outputs": [],
   "source": [
    "#estimates 2008-2009\n",
    "historical2 = pd.read_csv(\"US-EST00INT-ALLDATA.csv\")\n",
    "historical2 = historical2[(historical2.MONTH==7)&(historical2.YEAR>=2008)&(historical2.YEAR<2010)]\n",
    "historical2 = historical2.drop(historical2.columns[4:],axis = 1)\n",
    "historical2 = historical2.drop(historical2.columns[0],axis = 1)"
   ]
  },
  {
   "cell_type": "code",
   "execution_count": 34,
   "metadata": {
    "collapsed": false
   },
   "outputs": [],
   "source": [
    "pop_dep2 = [historical2.TOT_POP[(historical2.YEAR ==2008) & (historical2.AGE <=19)].sum(),historical2.TOT_POP[(historical2.YEAR ==2009) & (historical2.AGE <=19)].sum()]\n",
    "pop_snr2 = [historical2.TOT_POP[(historical2.YEAR ==2008) & (historical2.AGE >=65) & (historical2.AGE < 999)].sum(), historical2.TOT_POP[(historical2.YEAR ==2009) & (historical2.AGE >=65) & (historical2.AGE < 999)].sum()]\n",
    "total_pop2 = [historical2.TOT_POP[(historical2.YEAR ==2008) & (historical2.AGE == 999)].sum(), historical2.TOT_POP[(historical2.YEAR ==2009) & (historical2.AGE == 999)].sum() ]"
   ]
  },
  {
   "cell_type": "code",
   "execution_count": 35,
   "metadata": {
    "collapsed": false
   },
   "outputs": [],
   "source": [
    "POP_DEP = pd.concat([df(pop_dep2),df(pop_dep1),df(pop_projection[pop_projection.columns[1:21]].sum(axis = 1))])\n",
    "POP_SNR = pd.concat([df(pop_snr2),df(pop_snr1),df(pop_projection[pop_projection.columns[66:]].sum(axis = 1))])\n",
    "TOTAL_POP = pd.concat([df(total_pop2), df(total_pop1.values.transpose()),df(pop_projection.total_pop.values)])"
   ]
  },
  {
   "cell_type": "code",
   "execution_count": 36,
   "metadata": {
    "collapsed": false
   },
   "outputs": [],
   "source": [
    "Stage_II_targets = df(TOTAL_POP)\n",
    "Stage_II_targets.columns = ['TOTAL_POP']"
   ]
  },
  {
   "cell_type": "code",
   "execution_count": 37,
   "metadata": {
    "collapsed": false
   },
   "outputs": [],
   "source": [
    "Stage_II_targets['POP_DEP'] = POP_DEP.values\n",
    "Stage_II_targets['POP_SNR'] = POP_SNR.values\n",
    "\n",
    "index = list(range(2008,2025))\n",
    "Stage_II_targets.index = index"
   ]
  },
  {
   "cell_type": "code",
   "execution_count": 38,
   "metadata": {
    "collapsed": false
   },
   "outputs": [],
   "source": [
    "APOPN = Stage_II_targets.TOTAL_POP/Stage_II_targets.TOTAL_POP[2008]\n",
    "Stage_I_factors = df(APOPN, index = index)\n",
    "Stage_I_factors.columns = ['APOPN']\n",
    "\n",
    "Stage_I_factors['APOPDEP'] = df(Stage_II_targets.POP_DEP/Stage_II_targets.POP_DEP[2008],index = index)\n",
    "Stage_I_factors['APOPSNR'] = df(Stage_II_targets.POP_SNR/Stage_II_targets.POP_SNR[2008],index = index)"
   ]
  },
  {
   "cell_type": "code",
   "execution_count": 39,
   "metadata": {
    "collapsed": false
   },
   "outputs": [],
   "source": [
    "pop_growth_rates = df(Stage_II_targets.TOTAL_POP.pct_change()+1)\n",
    "pop_growth_rates['POPDEP'] = Stage_II_targets.POP_DEP.pct_change()+1\n",
    "pop_growth_rates['POPSNR'] = Stage_II_targets.POP_SNR.pct_change()+1\n",
    "pop_growth_rates = pop_growth_rates.drop(pop_growth_rates.index[0],axis = 0)"
   ]
  },
  {
   "cell_type": "markdown",
   "metadata": {},
   "source": [
    "#Import CBO baseline"
   ]
  },
  {
   "cell_type": "code",
   "execution_count": 40,
   "metadata": {
    "collapsed": false
   },
   "outputs": [],
   "source": [
    "cbo_baseline = (df.from_csv(\"CBO_baseline.csv\", index_col=0)).transpose()\n",
    "cbo_baseline.index = index"
   ]
  },
  {
   "cell_type": "code",
   "execution_count": 41,
   "metadata": {
    "collapsed": false
   },
   "outputs": [],
   "source": [
    "Stage_I_factors['AGDPN'] = df(cbo_baseline.GDP/cbo_baseline.GDP[2008], index = index)\n",
    "Stage_I_factors['ATXPY'] = df(cbo_baseline.TPY/cbo_baseline.TPY[2008], index = index)\n",
    "Stage_I_factors['ASCHF'] = df(cbo_baseline.SCHF/cbo_baseline.SCHF[2008], index = index)\n",
    "Stage_I_factors['ABOOK'] = df(cbo_baseline.BOOK/cbo_baseline.BOOK[2008], index = index)\n",
    "Stage_I_factors['ACPIU'] = df(cbo_baseline.CPIU/cbo_baseline.CPIU[2008], index = index)\n",
    "Stage_I_factors['ACPIM'] = df(cbo_baseline.CPIM/cbo_baseline.CPIM[2008], index = index)"
   ]
  },
  {
   "cell_type": "code",
   "execution_count": 42,
   "metadata": {
    "collapsed": false
   },
   "outputs": [],
   "source": [
    "cbo_growth_rates = cbo_baseline.pct_change()+1\n",
    "cbo_growth_rates = cbo_growth_rates.drop(cbo_growth_rates.index[0], axis=0)"
   ]
  },
  {
   "cell_type": "markdown",
   "metadata": {},
   "source": [
    "#Import IRS number of returns projection"
   ]
  },
  {
   "cell_type": "code",
   "execution_count": 43,
   "metadata": {
    "collapsed": false
   },
   "outputs": [],
   "source": [
    "irs_returns = (df.from_csv(\"IRS_return_projection.csv\", index_col=0)).transpose() "
   ]
  },
  {
   "cell_type": "code",
   "execution_count": 44,
   "metadata": {
    "collapsed": false
   },
   "outputs": [],
   "source": [
    "return_growth_rate = irs_returns.pct_change()+1\n",
    "return_growth_rate.Returns['2023'] = return_growth_rate.Returns['2022']\n",
    "return_growth_rate.Returns['2024'] = return_growth_rate.Returns['2022']\n",
    "return_growth_rate.Returns.index = index"
   ]
  },
  {
   "cell_type": "markdown",
   "metadata": {},
   "source": [
    "#Import SOI estimates (2008 - 2012)\n",
    "\n",
    "Tax-calculator is using 08 PUF."
   ]
  },
  {
   "cell_type": "code",
   "execution_count": 45,
   "metadata": {
    "collapsed": false
   },
   "outputs": [],
   "source": [
    "soi_estimates = (df.from_csv(\"SOI_estimates.csv\", index_col=0)).transpose()\n",
    "historical_index = list(range(2008,2013))\n",
    "soi_estimates.index = historical_index"
   ]
  },
  {
   "cell_type": "code",
   "execution_count": 46,
   "metadata": {
    "collapsed": false
   },
   "outputs": [],
   "source": [
    "return_projection = soi_estimates\n",
    "for i in range(2012,2024):\n",
    "    Single = return_projection.Single[i]*return_growth_rate.Returns[i+1]\n",
    "    Joint = return_projection.Joint[i]*return_growth_rate.Returns[i+1]\n",
    "    HH = return_projection.HH[i]*return_growth_rate.Returns[i+1]\n",
    "    SS_return = return_projection.SS_return[i]*pop_growth_rates.POPSNR[i+1]\n",
    "    Dep_return = return_projection.Dep_return[i]*pop_growth_rates.POPDEP[i+1]\n",
    "    INTS = return_projection.INTS[i]*cbo_growth_rates.INTS[i+1]\n",
    "    DIVS = return_projection.DIVS[i]*cbo_growth_rates.DIVS[i+1]\n",
    "    SCHCI = return_projection.SCHCI[i]*cbo_growth_rates.SCHC[i+1]\n",
    "    SCHCL = return_projection.SCHCL[i]*cbo_growth_rates.SCHC[i+1]\n",
    "    CGNS = return_projection.CGNS[i]*cbo_growth_rates.CGNS[i+1]\n",
    "    Pension = return_projection.Pension[i]*cbo_growth_rates.TPY[i+1]\n",
    "    SCHEI = return_projection.SCHEI[i]*cbo_growth_rates.BOOK[i+1]\n",
    "    SCHEL = return_projection.SCHEL[i]*cbo_growth_rates.BOOK[i+1]\n",
    "    SS = return_projection.SS[i]*cbo_growth_rates.SOCSEC[i+1]\n",
    "    UCOMP = return_projection.UCOMP[i]*cbo_growth_rates.UCOMP[i+1]\n",
    "    Wage_1 = return_projection.WAGE_1[i]*cbo_growth_rates.Wages[i+1]\n",
    "    Wage_2 = return_projection.WAGE_2[i]*cbo_growth_rates.Wages[i+1]\n",
    "    Wage_3 = return_projection.WAGE_3[i]*cbo_growth_rates.Wages[i+1]\n",
    "    Wage_4 = return_projection.WAGE_4[i]*cbo_growth_rates.Wages[i+1]\n",
    "    Wage_5 = return_projection.WAGE_5[i]*cbo_growth_rates.Wages[i+1]\n",
    "    Wage_6 = return_projection.WAGE_6[i]*cbo_growth_rates.Wages[i+1]\n",
    "    Wage_7 = return_projection.WAGE_7[i]*cbo_growth_rates.Wages[i+1]\n",
    "    Wage_8 = return_projection.WAGE_8[i]*cbo_growth_rates.Wages[i+1]\n",
    "    Wage_9 = return_projection.WAGE_9[i]*cbo_growth_rates.Wages[i+1]\n",
    "    Wage_10 = return_projection.WAGE_10[i]*cbo_growth_rates.Wages[i+1]\n",
    "    Wage_11 = return_projection.WAGE_11[i]*cbo_growth_rates.Wages[i+1]\n",
    "    Wage_12 = return_projection.WAGE_12[i]*cbo_growth_rates.Wages[i+1]\n",
    "    \n",
    "    current_year = df([Single, Joint, HH,\n",
    "                       SS_return,Dep_return,INTS,DIVS,SCHCI,SCHCL,\n",
    "                       CGNS,Pension, SCHEI, SCHEL,SS,UCOMP,Wage_1,\n",
    "                       Wage_2,Wage_3,Wage_4,Wage_5,Wage_6,Wage_7,\n",
    "                       Wage_8, Wage_9, Wage_10, Wage_11, Wage_12]).transpose()\n",
    "    current_year.columns = return_projection.columns\n",
    "    current_year.index = [i+1]\n",
    "    return_projection = return_projection.append(current_year)"
   ]
  },
  {
   "cell_type": "code",
   "execution_count": 47,
   "metadata": {
    "collapsed": false
   },
   "outputs": [],
   "source": [
    "Stage_II_targets = pd.concat([Stage_II_targets,return_projection], axis = 1)"
   ]
  },
  {
   "cell_type": "code",
   "execution_count": 48,
   "metadata": {
    "collapsed": false
   },
   "outputs": [],
   "source": [
    "total_return = df(Stage_II_targets[Stage_II_targets.columns[3:6]].sum(axis = 1), columns=['ARETS'])\n",
    "Stage_I_factors['ARETS'] = total_return/total_return.ARETS[2008]"
   ]
  },
  {
   "cell_type": "code",
   "execution_count": 49,
   "metadata": {
    "collapsed": true
   },
   "outputs": [],
   "source": [
    "total_wage = df(Stage_II_targets[Stage_II_targets.columns[18:30]].sum(axis = 1), columns=['AWAGE'])\n",
    "Stage_I_factors['AWAGE'] = total_wage/total_wage.AWAGE[2008]"
   ]
  },
  {
   "cell_type": "code",
   "execution_count": 50,
   "metadata": {
    "collapsed": false
   },
   "outputs": [],
   "source": [
    "Stage_I_factors['ASCHCI'] = Stage_II_targets.SCHCI/Stage_II_targets.SCHCI[2008]\n",
    "Stage_I_factors['ASCHCL'] = Stage_II_targets.SCHCL/Stage_II_targets.SCHCL[2008]\n",
    "Stage_I_factors['ASCHEI'] = Stage_II_targets.SCHEI/Stage_II_targets.SCHEI[2008]\n",
    "Stage_I_factors['ASCHEL'] = Stage_II_targets.SCHEL/Stage_II_targets.SCHEL[2008]"
   ]
  },
  {
   "cell_type": "code",
   "execution_count": 51,
   "metadata": {
    "collapsed": true
   },
   "outputs": [],
   "source": [
    "Stage_I_factors['AINTS'] = Stage_II_targets.INTS/Stage_II_targets.INTS[2008]\n",
    "Stage_I_factors['ADIVS'] = Stage_II_targets.DIVS/Stage_II_targets.DIVS[2008]\n",
    "Stage_I_factors['ACGNS'] = Stage_II_targets.CGNS/Stage_II_targets.CGNS[2008]"
   ]
  },
  {
   "cell_type": "code",
   "execution_count": 52,
   "metadata": {
    "collapsed": true
   },
   "outputs": [],
   "source": [
    "Stage_I_factors['ASOCSEC'] = Stage_II_targets.SS/Stage_II_targets.SS[2008]\n",
    "Stage_I_factors['AUCOMP'] = Stage_II_targets.UCOMP/Stage_II_targets.UCOMP[2008]"
   ]
  },
  {
   "cell_type": "code",
   "execution_count": 53,
   "metadata": {
    "collapsed": false
   },
   "outputs": [],
   "source": [
    "#pd.options.display.float_format = '{:,.4f}'.format\n",
    "Stage_I_factors.to_csv(path_or_buf  = \"Stage_I_factors.csv\", float_format ='%.4f')\n",
    "Stage_I_factors = Stage_I_factors.transpose()\n",
    "Stage_I_factors.to_csv(path_or_buf  = \"../Stage II/Stage_I_factors.csv\", float_format ='%.4f')"
   ]
  },
  {
   "cell_type": "code",
   "execution_count": 54,
   "metadata": {
    "collapsed": false
   },
   "outputs": [],
   "source": [
    "Stage_II_targets = Stage_II_targets.transpose()\n",
    "Stage_II_targets.to_csv(path_or_buf = \"../Stage II/Stage_II_targets.csv\", float_format = '%.4f')"
   ]
  }
 ],
 "metadata": {
  "kernelspec": {
   "display_name": "Python 2",
   "language": "python",
   "name": "python2"
  },
  "language_info": {
   "codemirror_mode": {
    "name": "ipython",
    "version": 2
   },
   "file_extension": ".py",
   "mimetype": "text/x-python",
   "name": "python",
   "nbconvert_exporter": "python",
   "pygments_lexer": "ipython2",
   "version": "2.7.10"
  }
 },
 "nbformat": 4,
 "nbformat_minor": 0
}
