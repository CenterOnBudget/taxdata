{
 "cells": [
  {
   "cell_type": "code",
   "execution_count": 1,
   "metadata": {
    "collapsed": true
   },
   "outputs": [],
   "source": [
    "import numpy as np\n",
    "import pandas as pd\n",
    "from pandas import DataFrame as df\n",
    "from cylp.cy import CyClpSimplex\n",
    "from cylp.py.modeling.CyLPModel import CyLPArray, CyLPModel\n",
    "from solve_lp_for_year import solve_lp_for_year"
   ]
  },
  {
   "cell_type": "code",
   "execution_count": 2,
   "metadata": {
    "collapsed": true
   },
   "outputs": [],
   "source": [
    "puf = pd.read_csv(\"../../puf_data/cps-matched-puf.csv\")\n",
    "Stage_I_factors = df.from_csv(\"../../stage1/Stage_I_factors_transpose.csv\", index_col = 0)\n",
    "Stage_II_targets = df.from_csv(\"../../stage1/Stage_II_targets.csv\", index_col= 0)"
   ]
  },
  {
   "cell_type": "code",
   "execution_count": 3,
   "metadata": {
    "collapsed": true
   },
   "outputs": [],
   "source": [
    "length = len(puf.s006)\n",
    "z = np.empty([length, 18])\n",
    "z[:,0] = puf.s006/100"
   ]
  },
  {
   "cell_type": "code",
   "execution_count": 7,
   "metadata": {},
   "outputs": [
    {
     "name": "stdout",
     "output_type": "stream",
     "text": [
      "Preparing coefficient matrix for year 2012 .....\n",
      "Preparing targets for year 2012 .....\n",
      "Targets for year 2012 are:\n",
      "[ -4.11810309e+07  -4.79303148e+07  -7.82018204e+06  -2.00075008e+07\n",
      "  -5.96952981e+07  -4.42916369e+10  -6.38594760e+10  -1.86061559e+11\n",
      "  -2.92385098e+10  -1.08688559e+11  -4.50694008e+11  -1.24772935e+11\n",
      "  -2.49647150e+10  -3.61644177e+11  -7.22292182e+10  -7.07703640e+09\n",
      "  -3.01900209e+10  -1.74467438e+11  -2.79298936e+11  -3.00514606e+11\n",
      "  -3.11759264e+11  -7.44721337e+11  -6.85066958e+11  -1.28228596e+12\n",
      "  -4.77654585e+11   9.44652749e+09   7.31841850e+10]\n",
      "Adding constraints for year 2012 .....\n",
      "Setting up the LP model for year 2012 .....\n",
      "Solving LP for year 2012 .....\n",
      "DONE solving LP for year 2012\n"
     ]
    }
   ],
   "source": [
    "z[:,1] = solve_lp_for_year(puf, Stage_I_factors, Stage_II_targets, year = '2012', tol = 0.47)"
   ]
  },
  {
   "cell_type": "code",
   "execution_count": 10,
   "metadata": {},
   "outputs": [
    {
     "name": "stdout",
     "output_type": "stream",
     "text": [
      "Preparing coefficient matrix for year 2013 .....\n",
      "Preparing targets for year 2013 .....\n",
      "Targets for year 2013 are:\n",
      "[ -4.14623694e+07  -4.98098859e+07  -8.16446320e+06  -2.10923044e+07\n",
      "  -6.26682812e+07  -4.78729159e+10  -6.93108624e+10  -1.93486650e+11\n",
      "  -3.05381622e+10  -1.17637580e+11  -4.63971115e+11  -1.36264344e+11\n",
      "  -2.79170903e+10  -3.74683690e+11  -7.46315402e+10  -8.14136652e+09\n",
      "  -3.28611707e+10  -1.83475905e+11  -2.89095232e+11  -3.20193712e+11\n",
      "  -3.13522269e+11  -7.78203818e+11  -7.03736572e+11  -1.30012297e+12\n",
      "  -4.53014528e+11   1.33181490e+10   2.10441236e+10]\n",
      "Adding constraints for year 2013 .....\n",
      "Setting up the LP model for year 2013 .....\n",
      "Solving LP for year 2013 .....\n",
      "DONE solving LP for year 2013\n"
     ]
    }
   ],
   "source": [
    "z[:,2] = solve_lp_for_year(puf, Stage_I_factors, Stage_II_targets, year = '2013', tol = 0.48)"
   ]
  },
  {
   "cell_type": "code",
   "execution_count": 12,
   "metadata": {},
   "outputs": [
    {
     "name": "stdout",
     "output_type": "stream",
     "text": [
      "Preparing coefficient matrix for year 2014 .....\n",
      "Preparing targets for year 2014 .....\n",
      "Targets for year 2014 are:\n",
      "[ -4.08193908e+07  -5.20391162e+07  -8.01902959e+06  -2.24010839e+07\n",
      "  -6.30848260e+07  -4.98077640e+10  -7.20868454e+10  -1.91364557e+11\n",
      "  -3.04290659e+10  -1.19520692e+11  -4.81837259e+11  -1.34866405e+11\n",
      "  -2.76959056e+10  -3.87443455e+11  -7.40129053e+10  -9.70768916e+09\n",
      "  -3.58274830e+10  -1.96346308e+11  -3.01152062e+11  -3.24616792e+11\n",
      "  -3.19384265e+11  -8.08584069e+11  -7.14594778e+11  -1.27038078e+12\n",
      "  -4.07111030e+11   3.77634261e+10   6.50609140e+10]\n",
      "Adding constraints for year 2014 .....\n",
      "Setting up the LP model for year 2014 .....\n",
      "Solving LP for year 2014 .....\n",
      "DONE solving LP for year 2014\n"
     ]
    }
   ],
   "source": [
    "z[:,3] = solve_lp_for_year(puf, Stage_I_factors, Stage_II_targets, year = '2014', tol = 0.50)"
   ]
  },
  {
   "cell_type": "code",
   "execution_count": 15,
   "metadata": {},
   "outputs": [
    {
     "name": "stdout",
     "output_type": "stream",
     "text": [
      "Preparing coefficient matrix for year 2015 .....\n",
      "Preparing targets for year 2015 .....\n",
      "Targets for year 2015 are:\n",
      "[ -4.18109719e+07  -5.32757257e+07  -8.15518201e+06  -2.31714087e+07\n",
      "  -6.52970689e+07  -5.31157066e+10  -7.70833863e+10  -1.96936683e+11\n",
      "  -3.14623230e+10  -1.27162076e+11  -5.07029432e+11  -1.43860746e+11\n",
      "  -3.00384235e+10  -4.00708208e+11  -7.58387121e+10  -1.00038691e+10\n",
      "  -3.69299691e+10  -2.00673412e+11  -3.07428802e+11  -3.31345129e+11\n",
      "  -3.25999320e+11  -8.25195110e+11  -7.29460724e+11  -1.29783526e+12\n",
      "  -4.18293903e+11   3.64783303e+10   6.35100720e+10]\n",
      "Adding constraints for year 2015 .....\n",
      "Setting up the LP model for year 2015 .....\n",
      "Solving LP for year 2015 .....\n",
      "DONE solving LP for year 2015\n"
     ]
    }
   ],
   "source": [
    "z[:,4] = solve_lp_for_year(puf, Stage_I_factors, Stage_II_targets, year = '2015', tol = 0.50)"
   ]
  },
  {
   "cell_type": "code",
   "execution_count": 18,
   "metadata": {},
   "outputs": [
    {
     "name": "stdout",
     "output_type": "stream",
     "text": [
      "Preparing coefficient matrix for year 2016 .....\n",
      "Preparing targets for year 2016 .....\n",
      "Targets for year 2016 are:\n",
      "[ -4.28612574e+07  -5.45928739e+07  -8.31132280e+06  -2.39398943e+07\n",
      "  -6.78972810e+07  -5.66077723e+10  -8.24061150e+10  -2.03867272e+11\n",
      "  -3.26946263e+10  -1.35717274e+11  -5.33058101e+11  -1.54576443e+11\n",
      "  -3.27899612e+10  -4.14028000e+11  -7.81323274e+10  -1.03677014e+10\n",
      "  -3.83548851e+10  -2.06201850e+11  -3.15536683e+11  -3.40077210e+11\n",
      "  -3.34607498e+11  -8.46417260e+11  -7.48471217e+11  -1.33334923e+12\n",
      "  -4.32950353e+11   3.45913420e+10   6.12261979e+10]\n",
      "Adding constraints for year 2016 .....\n",
      "Setting up the LP model for year 2016 .....\n",
      "Solving LP for year 2016 .....\n",
      "DONE solving LP for year 2016\n"
     ]
    }
   ],
   "source": [
    "z[:,5] = solve_lp_for_year(puf, Stage_I_factors, Stage_II_targets, year = '2016', tol = 0.50)"
   ]
  },
  {
   "cell_type": "code",
   "execution_count": 21,
   "metadata": {},
   "outputs": [
    {
     "name": "stdout",
     "output_type": "stream",
     "text": [
      "Preparing coefficient matrix for year 2017 .....\n",
      "Preparing targets for year 2017 .....\n",
      "Targets for year 2017 are:\n",
      "[ -4.39693435e+07  -5.59835158e+07  -8.48128249e+06  -2.47309981e+07\n",
      "  -7.07322599e+07  -6.03469997e+10  -8.81104755e+10  -2.11754172e+11\n",
      "  -3.40683569e+10  -1.45097100e+11  -5.60482036e+11  -1.66646722e+11\n",
      "  -3.58910597e+10  -4.27709307e+11  -8.07050611e+10  -1.07783048e+10\n",
      "  -3.99949278e+10  -2.12496126e+11  -3.24794470e+11  -3.50064205e+11\n",
      "  -3.44462645e+11  -8.70538210e+11  -7.70093019e+11  -1.37395665e+12\n",
      "  -4.49873759e+11   3.22638452e+10   5.83923774e+10]\n",
      "Adding constraints for year 2017 .....\n",
      "Setting up the LP model for year 2017 .....\n",
      "Solving LP for year 2017 .....\n",
      "DONE solving LP for year 2017\n"
     ]
    }
   ],
   "source": [
    "z[:,6] = solve_lp_for_year(puf, Stage_I_factors, Stage_II_targets, year = '2017', tol = 0.51)"
   ]
  },
  {
   "cell_type": "code",
   "execution_count": 26,
   "metadata": {},
   "outputs": [
    {
     "name": "stdout",
     "output_type": "stream",
     "text": [
      "Preparing coefficient matrix for year 2018 .....\n",
      "Preparing targets for year 2018 .....\n",
      "Targets for year 2018 are:\n",
      "[ -4.50842987e+07  -5.73809478e+07  -8.64375200e+06  -2.55612717e+07\n",
      "  -7.33446749e+07  -6.41389206e+10  -9.38594955e+10  -2.19064903e+11\n",
      "  -3.53690134e+10  -1.54292136e+11  -5.88670331e+11  -1.78110977e+11\n",
      "  -3.88626890e+10  -4.42061533e+11  -8.30724727e+10  -1.11632701e+10\n",
      "  -4.14976532e+10  -2.18283066e+11  -3.33261872e+11  -3.59179482e+11\n",
      "  -3.53447000e+11  -8.92705568e+11  -7.89956910e+11  -1.41108266e+12\n",
      "  -4.65278666e+11   3.02213811e+10   5.59042290e+10]\n",
      "Adding constraints for year 2018 .....\n",
      "Setting up the LP model for year 2018 .....\n",
      "Solving LP for year 2018 .....\n",
      "DONE solving LP for year 2018\n"
     ]
    }
   ],
   "source": [
    "z[:,7] = solve_lp_for_year(puf, Stage_I_factors, Stage_II_targets, year = '2018', tol = 0.51)"
   ]
  },
  {
   "cell_type": "code",
   "execution_count": 28,
   "metadata": {},
   "outputs": [
    {
     "name": "stdout",
     "output_type": "stream",
     "text": [
      "Preparing coefficient matrix for year 2019 .....\n",
      "Preparing targets for year 2019 .....\n",
      "Targets for year 2019 are:\n",
      "[ -4.62001232e+07  -5.87742295e+07  -8.79658003e+06  -2.64293588e+07\n",
      "  -7.56534402e+07  -6.79364054e+10  -9.96251568e+10  -2.25588688e+11\n",
      "  -3.65728047e+10  -1.63175363e+11  -6.17436729e+11  -1.88682606e+11\n",
      "  -4.16203256e+10  -4.57069938e+11  -8.52163988e+10  -1.15091769e+10\n",
      "  -4.27989651e+10  -2.23329135e+11  -3.40583969e+11  -3.67034585e+11\n",
      "  -3.61174050e+11  -9.12028092e+11  -8.07260863e+11  -1.44316042e+12\n",
      "  -4.78478426e+11   2.85912828e+10   5.39185736e+10]\n",
      "Adding constraints for year 2019 .....\n",
      "Setting up the LP model for year 2019 .....\n",
      "Solving LP for year 2019 .....\n",
      "DONE solving LP for year 2019\n"
     ]
    }
   ],
   "source": [
    "z[:,8] = solve_lp_for_year(puf, Stage_I_factors, Stage_II_targets, year = '2019', tol = 0.52)"
   ]
  },
  {
   "cell_type": "code",
   "execution_count": 31,
   "metadata": {},
   "outputs": [
    {
     "name": "stdout",
     "output_type": "stream",
     "text": [
      "Preparing coefficient matrix for year 2020 .....\n",
      "Preparing targets for year 2020 .....\n",
      "Targets for year 2020 are:\n",
      "[ -4.73259834e+07  -6.01762090e+07  -8.94136329e+06  -2.73399548e+07\n",
      "  -7.77888514e+07  -7.18105079e+10  -1.05472285e+11  -2.31452985e+11\n",
      "  -3.76910860e+10  -1.71879271e+11  -6.47120478e+11  -1.98590593e+11\n",
      "  -4.42043643e+10  -4.72864135e+11  -8.71169744e+10  -1.18236282e+10\n",
      "  -4.39328273e+10  -2.27756987e+11  -3.46944116e+11  -3.73829143e+11\n",
      "  -3.67841881e+11  -9.28971130e+11  -8.22423659e+11  -1.47100059e+12\n",
      "  -4.89829404e+11   2.73080321e+10   5.23538773e+10]\n",
      "Adding constraints for year 2020 .....\n",
      "Setting up the LP model for year 2020 .....\n",
      "Solving LP for year 2020 .....\n",
      "DONE solving LP for year 2020\n"
     ]
    }
   ],
   "source": [
    "z[:,9] = solve_lp_for_year(puf, Stage_I_factors, Stage_II_targets, year = '2020', tol = 0.52)"
   ]
  },
  {
   "cell_type": "code",
   "execution_count": 34,
   "metadata": {},
   "outputs": [
    {
     "name": "stdout",
     "output_type": "stream",
     "text": [
      "Preparing coefficient matrix for year 2021 .....\n",
      "Preparing targets for year 2021 .....\n",
      "Targets for year 2021 are:\n",
      "[ -4.84427441e+07  -6.15672263e+07  -9.08669155e+06  -2.82389449e+07\n",
      "  -7.98667708e+07  -7.56373136e+10  -1.11261978e+11  -2.37431490e+11\n",
      "  -3.88229756e+10  -1.80551736e+11  -6.76445119e+11  -2.08517798e+11\n",
      "  -4.68277784e+10  -4.88356769e+11  -8.90657945e+10  -1.21416862e+10\n",
      "  -4.50895290e+10  -2.32265360e+11  -3.53432696e+11  -3.80766802e+11\n",
      "  -3.74653483e+11  -9.46222633e+11  -8.37864988e+11  -1.49940968e+12\n",
      "  -5.01438669e+11   2.59672173e+10   5.07186245e+10]\n",
      "Adding constraints for year 2021 .....\n",
      "Setting up the LP model for year 2021 .....\n",
      "Solving LP for year 2021 .....\n",
      "DONE solving LP for year 2021\n"
     ]
    }
   ],
   "source": [
    "z[:,10] = solve_lp_for_year(puf, Stage_I_factors, Stage_II_targets, year = '2021', tol = 0.52)"
   ]
  },
  {
   "cell_type": "code",
   "execution_count": 36,
   "metadata": {},
   "outputs": [
    {
     "name": "stdout",
     "output_type": "stream",
     "text": [
      "Preparing coefficient matrix for year 2022 .....\n",
      "Preparing targets for year 2022 .....\n",
      "Targets for year 2022 are:\n",
      "[ -4.95876618e+07  -6.29903495e+07  -9.23213409e+06  -2.91717840e+07\n",
      "  -8.17579353e+07  -7.95885988e+10  -1.17215654e+11  -2.43254731e+11\n",
      "  -3.99456906e+10  -1.89364287e+11  -7.06847605e+11  -2.18487884e+11\n",
      "  -4.94360731e+10  -5.04529164e+11  -9.09896248e+10  -1.24554779e+10\n",
      "  -4.62119373e+10  -2.36635489e+11  -3.59691512e+11  -3.87446785e+11\n",
      "  -3.81205596e+11  -9.62923449e+11  -8.52812118e+11  -1.52681787e+12\n",
      "  -5.12630744e+11   2.46964634e+10   4.91625097e+10]\n",
      "Adding constraints for year 2022 .....\n",
      "Setting up the LP model for year 2022 .....\n",
      "Solving LP for year 2022 .....\n",
      "DONE solving LP for year 2022\n"
     ]
    }
   ],
   "source": [
    "z[:,11] = solve_lp_for_year(puf, Stage_I_factors, Stage_II_targets, year = '2022', tol = 0.53)"
   ]
  },
  {
   "cell_type": "code",
   "execution_count": 43,
   "metadata": {},
   "outputs": [
    {
     "name": "stdout",
     "output_type": "stream",
     "text": [
      "Preparing coefficient matrix for year 2023 .....\n",
      "Preparing targets for year 2023 .....\n",
      "Targets for year 2023 are:\n",
      "[ -5.07220190e+07  -6.44019831e+07  -9.37665970e+06  -3.00963957e+07\n",
      "  -8.36798152e+07  -8.35008044e+10  -1.23128431e+11  -2.49114242e+11\n",
      "  -4.10651938e+10  -1.98118233e+11  -7.36905516e+11  -2.28407379e+11\n",
      "  -5.20525180e+10  -5.20518569e+11  -9.28898922e+10  -1.27694539e+10\n",
      "  -4.73390770e+10  -2.41027116e+11  -3.65988576e+11  -3.94170344e+11\n",
      "  -3.87801916e+11  -9.79713285e+11  -8.67838873e+11  -1.55439067e+12\n",
      "  -5.23887756e+11   2.34165948e+10   4.75973302e+10]\n",
      "Adding constraints for year 2023 .....\n",
      "Setting up the LP model for year 2023 .....\n",
      "Solving LP for year 2023 .....\n",
      "DONE solving LP for year 2023\n"
     ]
    }
   ],
   "source": [
    "z[:,12] = solve_lp_for_year(puf, Stage_I_factors, Stage_II_targets, year = '2023', tol = 0.53)"
   ]
  },
  {
   "cell_type": "code",
   "execution_count": 48,
   "metadata": {},
   "outputs": [
    {
     "name": "stdout",
     "output_type": "stream",
     "text": [
      "Preparing coefficient matrix for year 2024 .....\n",
      "Preparing targets for year 2024 .....\n",
      "Targets for year 2024 are:\n",
      "[ -5.18320940e+07  -6.57854406e+07  -9.51926427e+06  -3.09940006e+07\n",
      "  -8.56462101e+07  -8.73284731e+10  -1.28911273e+11  -2.54976544e+11\n",
      "  -4.21814625e+10  -2.06751655e+11  -7.66237887e+11  -2.38285052e+11\n",
      "  -5.46449076e+10  -5.36072963e+11  -9.48101977e+10  -1.30820547e+10\n",
      "  -4.84690372e+10  -2.45433572e+11  -3.72320414e+11  -4.00936165e+11\n",
      "  -3.94442452e+11  -9.96570831e+11  -8.82926459e+11  -1.58211197e+12\n",
      "  -5.35205035e+11   2.21235621e+10   4.60193650e+10]\n",
      "Adding constraints for year 2024 .....\n",
      "Setting up the LP model for year 2024 .....\n",
      "Solving LP for year 2024 .....\n",
      "DONE solving LP for year 2024\n"
     ]
    }
   ],
   "source": [
    "z[:,13] = solve_lp_for_year(puf, Stage_I_factors, Stage_II_targets, year = '2024', tol = 0.54)"
   ]
  },
  {
   "cell_type": "code",
   "execution_count": 52,
   "metadata": {},
   "outputs": [
    {
     "name": "stdout",
     "output_type": "stream",
     "text": [
      "Preparing coefficient matrix for year 2025 .....\n",
      "Preparing targets for year 2025 .....\n",
      "Targets for year 2025 are:\n",
      "[ -5.29849038e+07  -6.72197719e+07  -9.66689746e+06  -3.19298708e+07\n",
      "  -8.76467620e+07  -9.13598683e+10  -1.34992216e+11  -2.61122029e+11\n",
      "  -4.33506085e+10  -2.15848523e+11  -7.96976922e+11  -2.48711146e+11\n",
      "  -5.73704580e+10  -5.52240269e+11  -9.68048561e+10  -1.34103053e+10\n",
      "  -4.96602938e+10  -2.50031694e+11  -3.78920171e+11  -4.07989297e+11\n",
      "  -4.01366179e+11  -1.01411848e+12  -8.98639881e+11  -1.61104612e+12\n",
      "  -5.47115704e+11   2.06839722e+10   4.42480526e+10]\n",
      "Adding constraints for year 2025 .....\n",
      "Setting up the LP model for year 2025 .....\n",
      "Solving LP for year 2025 .....\n",
      "DONE solving LP for year 2025\n"
     ]
    }
   ],
   "source": [
    "z[:,14] = solve_lp_for_year(puf, Stage_I_factors, Stage_II_targets, year = '2025', tol = 0.55)"
   ]
  },
  {
   "cell_type": "code",
   "execution_count": 54,
   "metadata": {},
   "outputs": [
    {
     "name": "stdout",
     "output_type": "stream",
     "text": [
      "Preparing coefficient matrix for year 2026 .....\n",
      "Preparing targets for year 2026 .....\n",
      "Targets for year 2026 are:\n",
      "[ -5.40967102e+07  -6.86029107e+07  -9.81356615e+06  -3.28154762e+07\n",
      "  -8.96807236e+07  -9.51840793e+10  -1.40778567e+11  -2.67195379e+11\n",
      "  -4.44906159e+10  -2.24579987e+11  -8.26144635e+11  -2.58829925e+11\n",
      "  -6.00331236e+10  -5.67581923e+11  -9.87789523e+10  -1.37340943e+10\n",
      "  -5.08496450e+10  -2.54638441e+11  -3.85559761e+11  -4.15094685e+11\n",
      "  -4.08346274e+11  -1.03172825e+12  -9.14407855e+11  -1.64014014e+12\n",
      "  -5.59073024e+11   1.92412636e+10   4.24819269e+10]\n",
      "Adding constraints for year 2026 .....\n",
      "Setting up the LP model for year 2026 .....\n",
      "Solving LP for year 2026 .....\n",
      "DONE solving LP for year 2026\n"
     ]
    }
   ],
   "source": [
    "z[:,15] = solve_lp_for_year(puf, Stage_I_factors, Stage_II_targets, year = '2026', tol = 0.56)"
   ]
  },
  {
   "cell_type": "code",
   "execution_count": 57,
   "metadata": {},
   "outputs": [
    {
     "name": "stdout",
     "output_type": "stream",
     "text": [
      "Preparing coefficient matrix for year 2027 .....\n",
      "Preparing targets for year 2027 .....\n",
      "Targets for year 2027 are:\n",
      "[ -5.51420613e+07  -6.99093062e+07  -9.95302609e+06  -3.36436159e+07\n",
      "  -9.17421552e+07  -9.87681457e+10  -1.46202339e+11  -2.73116932e+11\n",
      "  -4.55950846e+10  -2.32854547e+11  -8.53412436e+11  -2.68552419e+11\n",
      "  -6.25725735e+10  -5.81873712e+11  -1.00708594e+11  -1.40493027e+10\n",
      "  -5.20207192e+10  -2.59188959e+11  -3.92143342e+11  -4.22148937e+11\n",
      "  -4.15280735e+11  -1.04914967e+12  -9.30006206e+11  -1.66897539e+12\n",
      "  -5.70906704e+11   1.78156628e+10   4.07449542e+10]\n",
      "Adding constraints for year 2027 .....\n",
      "Setting up the LP model for year 2027 .....\n",
      "Solving LP for year 2027 .....\n",
      "DONE solving LP for year 2027\n"
     ]
    }
   ],
   "source": [
    "z[:,17] = solve_lp_for_year(puf, Stage_I_factors, Stage_II_targets, year = '2027', tol = 0.56)"
   ]
  },
  {
   "cell_type": "code",
   "execution_count": 23,
   "metadata": {
    "collapsed": true
   },
   "outputs": [],
   "source": [
    "z = df(z, columns=['WT2011','WT2012','WT2013','WT2014',\n",
    "                   'WT2015','WT2016','WT2017','WT2018','WT2019','WT2020','WT2021',\n",
    "                   'WT2022','WT2023','WT2024', 'WT2025', 'WT2026', 'WT2027'])\n",
    "z = z.round(0).astype('int64')\n",
    "z.to_csv('puf_weights.csv', index = False)"
   ]
  },
  {
   "cell_type": "code",
   "execution_count": null,
   "metadata": {
    "collapsed": true
   },
   "outputs": [],
   "source": []
  }
 ],
 "metadata": {
  "anaconda-cloud": {},
  "kernelspec": {
   "display_name": "Python [conda env:taxdata-dev]",
   "language": "python",
   "name": "conda-env-taxdata-dev-py"
  },
  "language_info": {
   "codemirror_mode": {
    "name": "ipython",
    "version": 2
   },
   "file_extension": ".py",
   "mimetype": "text/x-python",
   "name": "python",
   "nbconvert_exporter": "python",
   "pygments_lexer": "ipython2",
   "version": "2.7.13"
  }
 },
 "nbformat": 4,
 "nbformat_minor": 2
}
